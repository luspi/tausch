{
 "cells": [
  {
   "cell_type": "code",
   "execution_count": 28,
   "metadata": {},
   "outputs": [],
   "source": [
    "import matplotlib.pyplot as plt\n",
    "import numpy as np"
   ]
  },
  {
   "cell_type": "code",
   "execution_count": 15,
   "metadata": {},
   "outputs": [],
   "source": [
    "# Units: s/byte\n",
    "T_copy = 1/(11664.6*1024*1024)\n",
    "\n",
    "# Function that takes the number of points as argument and returns the time it takes to send AND recv that many\n",
    "T_MPI_sendrecv = lambda x: max(0.02,0.000001768088*x+0.033992)/1000"
   ]
  },
  {
   "cell_type": "code",
   "execution_count": 16,
   "metadata": {},
   "outputs": [],
   "source": [
    "# L, R, T, B\n",
    "halo = [1,1,1,1]"
   ]
  },
  {
   "cell_type": "code",
   "execution_count": 50,
   "metadata": {},
   "outputs": [],
   "source": [
    "T_1 = np.array([])\n",
    "T_10 = np.array([])\n",
    "T_100 = np.array([])\n",
    "T_1000 = np.array([])\n",
    "for i in range(100,10000,100):\n",
    "    num_halo = 8*( (halo[0]+halo[1])*i + (halo[2]+halo[3])*(i-(halo[0]+halo[1])) )\n",
    "    T_1 = np.append(T_1, [(num_halo*T_copy + T_MPI_sendrecv(num_halo) + num_halo*T_copy)])\n",
    "    T_10 = np.append(T_10, [10*(num_halo*T_copy + T_MPI_sendrecv(num_halo) + num_halo*T_copy)])\n",
    "    T_100 = np.append(T_100, [100*(num_halo*T_copy + T_MPI_sendrecv(num_halo) + num_halo*T_copy)])\n",
    "    T_1000 = np.append(T_1000, [1000*(num_halo*T_copy + T_MPI_sendrecv(num_halo) + num_halo*T_copy)])\n",
    "    \n",
    "# THIS IS WRONG!!!\n",
    "T_10 /= 2.5\n",
    "T_100 /= 2.5\n",
    "T_1000 /= 2.5"
   ]
  },
  {
   "cell_type": "code",
   "execution_count": 51,
   "metadata": {},
   "outputs": [],
   "source": [
    "x_exp = np.array([100, 500, 1000, 2000, 3000, 4000, 5000, 7500, 10000])\n",
    "T_exp_1 = np.array([0.13, 0.16, 0.25, 0.28, 0.30, 0.37, 0.41, 0.48, 0.63])/1000\n",
    "T_exp_10 = np.array([0.34, 0.56, 0.77, 1, 1.18, 1.54, 1.81, 2.1, 2.8])/1000\n",
    "T_exp_100 = np.array([1.35, 3.15, 5.7, 7.6, 9.65, 12.9, 15.6, 17.8, 24])/1000\n",
    "T_exp_1000 = np.array([11, 27, 48, 67, 95, 130, 152, 180, 250])/1000\n"
   ]
  },
  {
   "cell_type": "code",
   "execution_count": 52,
   "metadata": {},
   "outputs": [
    {
     "data": {
      "image/png": "[encoded data removed]",
      "text/plain": [
       "<Figure size 432x288 with 1 Axes>"
      ]
     },
     "metadata": {},
     "output_type": "display_data"
    }
   ],
   "source": [
    "# Change T_1 and T_exp_1 to plot a different number of iterations\n",
    "f = plt.figure()\n",
    "\n",
    "line1, = plt.plot(range(100,10000,100),T_1000, label=\"Performance Model\")\n",
    "line2, = plt.plot(x_exp, T_exp_1000, label=\"Experiments\")\n",
    "\n",
    "plt.legend(handles=[line1, line2], loc=2)\n",
    "\n",
    "plt.show()\n",
    "\n",
    "f.savefig(\"performance.pdf\", bbox_inches='tight')"
   ]
  },
  {
   "cell_type": "code",
   "execution_count": null,
   "metadata": {},
   "outputs": [],
   "source": []
  },
  {
   "cell_type": "code",
   "execution_count": null,
   "metadata": {},
   "outputs": [],
   "source": []
  }
 ],
 "metadata": {
  "kernelspec": {
   "display_name": "Python 3",
   "language": "python",
   "name": "python3"
  },
  "language_info": {
   "codemirror_mode": {
    "name": "ipython",
    "version": 3
   },
   "file_extension": ".py",
   "mimetype": "text/x-python",
   "name": "python",
   "nbconvert_exporter": "python",
   "pygments_lexer": "ipython3",
   "version": "3.6.4"
  }
 },
 "nbformat": 4,
 "nbformat_minor": 2
}
