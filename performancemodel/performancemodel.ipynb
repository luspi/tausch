{
 "cells": [
  {
   "cell_type": "code",
   "execution_count": 1,
   "metadata": {},
   "outputs": [],
   "source": [
    "import matplotlib.pyplot as plt\n",
    "import numpy as np"
   ]
  },
  {
   "cell_type": "code",
   "execution_count": 2,
   "metadata": {},
   "outputs": [],
   "source": [
    "# Units: s/byte\n",
    "T_copy = 1/(12600.2*1024*1024)\n",
    "\n",
    "# Function that takes the number of points as argument and returns the time it takes to send AND recv that many\n",
    "def T_MPI_sendrecv(x):\n",
    "    if x < 500:\n",
    "        return (-0.00004615302*x+12.1250764)/1000\n",
    "    else:\n",
    "        return (0.000002394175*x-0.01176775)/1000"
   ]
  },
  {
   "cell_type": "code",
   "execution_count": 7,
   "metadata": {},
   "outputs": [],
   "source": [
    "# L, R, T, B\n",
    "halo = [1,1,1,1]\n",
    "\n",
    "# latency (for MPI, etc)\n",
    "latency = 0.008"
   ]
  },
  {
   "cell_type": "code",
   "execution_count": 8,
   "metadata": {},
   "outputs": [],
   "source": [
    "T_1 = np.array([])\n",
    "T_10 = np.array([])\n",
    "T_100 = np.array([])\n",
    "T_1000 = np.array([])\n",
    "for i in range(100,5000,100):\n",
    "    num_halo = 8*( (halo[0]+halo[1]+halo[2]+halo[3])*i )\n",
    "    T_1 = np.append(T_1, [latency + (num_halo*T_copy + T_MPI_sendrecv(num_halo) + num_halo*T_copy)])\n",
    "    T_10 = np.append(T_10, [latency + 10*(num_halo*T_copy + T_MPI_sendrecv(num_halo) + num_halo*T_copy)])\n",
    "    T_100 = np.append(T_100, [latency + 100*(num_halo*T_copy + T_MPI_sendrecv(num_halo) + num_halo*T_copy)])\n",
    "    T_1000 = np.append(T_1000, [latency + 1000*(num_halo*T_copy + T_MPI_sendrecv(num_halo) + num_halo*T_copy)])"
   ]
  },
  {
   "cell_type": "code",
   "execution_count": 9,
   "metadata": {},
   "outputs": [],
   "source": [
    "x_exp = np.array([100, 500, 1000, 2000, 3000, 4000, 5000])\n",
    "T_exp_1 = np.array([8.27784, 8.04444, 6.70761, 7.33502, 7.33956, 7.45345, 7.30441])/1000\n",
    "T_exp_10 = np.array([10.245, 9.33402, 8.18851, 9.09714, 10.5831, 11.0485, 11.7523])/1000\n",
    "T_exp_100 = np.array([10.2513, 14.1145, 21.4272, 22.0109, 29.6573, 39.6255, 48.5832])/1000\n",
    "T_exp_1000 = np.array([21.841, 45.5485, 80.2913, 151.296, 226.143, 328.604, 420.334])/1000\n"
   ]
  },
  {
   "cell_type": "code",
   "execution_count": 17,
   "metadata": {
    "scrolled": true
   },
   "outputs": [
    {
     "data": {
      "image/png": "[encoded data removed]",
      "text/plain": [
       "<Figure size 432x288 with 1 Axes>"
      ]
     },
     "metadata": {},
     "output_type": "display_data"
    }
   ],
   "source": [
    "# Change T_1 and T_exp_1 to plot a different number of iterations\n",
    "f = plt.figure()\n",
    "\n",
    "line1, = plt.plot(range(100,5000,100),T_1000, label=\"Performance Model\")\n",
    "line2, = plt.plot(x_exp, T_exp_1000, label=\"Experiments\")\n",
    "\n",
    "plt.legend(handles=[line1, line2], loc=2)\n",
    "\n",
    "plt.show()\n",
    "\n",
    "f.savefig(\"performance.pdf\", bbox_inches='tight')"
   ]
  },
  {
   "cell_type": "code",
   "execution_count": null,
   "metadata": {},
   "outputs": [],
   "source": []
  },
  {
   "cell_type": "code",
   "execution_count": null,
   "metadata": {},
   "outputs": [],
   "source": []
  },
  {
   "cell_type": "code",
   "execution_count": null,
   "metadata": {},
   "outputs": [],
   "source": []
  }
 ],
 "metadata": {
  "kernelspec": {
   "display_name": "Python 3",
   "language": "python",
   "name": "python3"
  },
  "language_info": {
   "codemirror_mode": {
    "name": "ipython",
    "version": 3
   },
   "file_extension": ".py",
   "mimetype": "text/x-python",
   "name": "python",
   "nbconvert_exporter": "python",
   "pygments_lexer": "ipython3",
   "version": "3.6.5"
  }
 },
 "nbformat": 4,
 "nbformat_minor": 2
}
