{
 "cells": [
  {
   "cell_type": "code",
   "execution_count": null,
   "metadata": {},
   "outputs": [],
   "source": [
    "import matplotlib.pyplot as plt"
   ]
  },
  {
   "cell_type": "code",
   "execution_count": null,
   "metadata": {},
   "outputs": [],
   "source": [
    "# Units: s/byte\n",
    "T_copy = 1/(11446.6*1024*1024)\n",
    "\n",
    "# Function that takes the number of points as argument and returns the time it takes to send AND recv that many\n",
    "T_MPI_sendrecv = lambda x: max(0.025,0.0000017543754*x-0.1000854)/1000"
   ]
  },
  {
   "cell_type": "code",
   "execution_count": null,
   "metadata": {},
   "outputs": [],
   "source": [
    "# L, R, T, B\n",
    "halo = [1,1,1,1]"
   ]
  },
  {
   "cell_type": "code",
   "execution_count": null,
   "metadata": {},
   "outputs": [],
   "source": [
    "T = []\n",
    "for i in range(100,10000,100):\n",
    "    num_halo = 8 * ( (halo[0]+halo[1])*i + (halo[2]+halo[3])*(i-(halo[0]+halo[1])) )\n",
    "    T.append(num_halo*T_copy + T_MPI_sendrecv(num_halo) + num_halo*T_copy)"
   ]
  },
  {
   "cell_type": "code",
   "execution_count": null,
   "metadata": {},
   "outputs": [],
   "source": [
    "x_exp = [100, 500, 1000, 2000, 3000, 4000, 5000, 7500, 10000]\n",
    "T_exp = []"
   ]
  },
  {
   "cell_type": "code",
   "execution_count": null,
   "metadata": {},
   "outputs": [],
   "source": [
    "line1, = plt.plot(range(100,10000,100),T, label=\"Performance Model\")\n",
    "line2, = plt.plot(x_exp, T_exp, label=\"Experiments\")\n",
    "\n",
    "plt.legend(handles=[line1, line2], loc=2)\n",
    "\n",
    "plt.show()"
   ]
  },
  {
   "cell_type": "code",
   "execution_count": null,
   "metadata": {},
   "outputs": [],
   "source": []
  }
 ],
 "metadata": {
  "kernelspec": {
   "display_name": "Python 3",
   "language": "python",
   "name": "python3"
  },
  "language_info": {
   "codemirror_mode": {
    "name": "ipython",
    "version": 3
   },
   "file_extension": ".py",
   "mimetype": "text/x-python",
   "name": "python",
   "nbconvert_exporter": "python",
   "pygments_lexer": "ipython3",
   "version": "3.6.4"
  }
 },
 "nbformat": 4,
 "nbformat_minor": 2
}
