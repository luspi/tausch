{
 "cells": [
  {
   "cell_type": "code",
   "execution_count": 8,
   "metadata": {},
   "outputs": [],
   "source": [
    "import matplotlib.pyplot as plt\n",
    "import numpy as np"
   ]
  },
  {
   "cell_type": "code",
   "execution_count": 111,
   "metadata": {},
   "outputs": [],
   "source": [
    "# Units: s/byte\n",
    "T_copy = 1/(11664.6*1024*1024)\n",
    "\n",
    "# Function that takes the number of points as argument and returns the time it takes to send AND recv that many\n",
    "T_MPI_sendrecv = lambda x: max(0.02,0.000001768088*x+0.033992)/1000"
   ]
  },
  {
   "cell_type": "code",
   "execution_count": 112,
   "metadata": {},
   "outputs": [],
   "source": [
    "# L, R, T, B\n",
    "halo = [1,1,1,1]"
   ]
  },
  {
   "cell_type": "code",
   "execution_count": 178,
   "metadata": {},
   "outputs": [],
   "source": [
    "T_1 = np.array([])\n",
    "T_10 = np.array([])\n",
    "T_100 = np.array([])\n",
    "T_1000 = np.array([])\n",
    "for i in range(100,10000,100):\n",
    "    num_halo = 8*( (halo[0]+halo[1])*i + (halo[2]+halo[3])*(i-(halo[0]+halo[1])) )\n",
    "    T_1 = np.append(T_1, [(num_halo*T_copy + T_MPI_sendrecv(num_halo) + num_halo*T_copy)])\n",
    "    T_10 = np.append(T_10, [10*(num_halo*T_copy + T_MPI_sendrecv(num_halo) + num_halo*T_copy)])\n",
    "    T_100 = np.append(T_100, [100*(num_halo*T_copy + T_MPI_sendrecv(num_halo) + num_halo*T_copy)])\n",
    "    T_1000 = np.append(T_1000, [1000*(num_halo*T_copy + T_MPI_sendrecv(num_halo) + num_halo*T_copy)])\n",
    "    \n",
    "# THIS IS WRONG!!!\n",
    "T_10 /= 2.5\n",
    "T_100 /= 2.5\n",
    "T_1000 /= 2.5"
   ]
  },
  {
   "cell_type": "code",
   "execution_count": 179,
   "metadata": {},
   "outputs": [],
   "source": [
    "x_exp = np.array([100, 500, 1000, 2000, 3000, 4000, 5000, 7500, 10000])\n",
    "T_exp_1 = np.array([0.074893, 0.09219, 0.141588, 0.202199, 0.244212, 0.297425, 0.359377, 0.495686, 0.602481])/1000\n",
    "T_exp_10 = np.array([0.237001, 0.457826, 0.662599, 1.0779, 1.18771, 1.38902, 1.56982, 2.29038, 2.89065])/1000\n",
    "T_exp_100 = np.array([0.84354, 2.44023, 4.89201, 8.07434, 9.69951, 10.939, 13.0796, 19.0761, 25.4459])/1000\n",
    "T_exp_1000 = np.array([7.1154, 22.9323, 41.8292, 66.187, 82.4399, 104.859, 128.581, 186.882, 220.381])/1000\n"
   ]
  },
  {
   "cell_type": "code",
   "execution_count": 183,
   "metadata": {},
   "outputs": [
    {
     "data": {
      "image/png": "[encoded data removed]",
      "text/plain": [
       "<matplotlib.figure.Figure at 0x7f5f13c2fb70>"
      ]
     },
     "metadata": {},
     "output_type": "display_data"
    }
   ],
   "source": [
    "# Change T_1 and T_exp_1 to plot a different number of iterations\n",
    "line1, = plt.plot(range(100,10000,100),T_1, label=\"Performance Model\")\n",
    "line2, = plt.plot(x_exp, T_exp_1, label=\"Experiments\")\n",
    "\n",
    "plt.legend(handles=[line1, line2], loc=2)\n",
    "\n",
    "plt.show()"
   ]
  },
  {
   "cell_type": "code",
   "execution_count": null,
   "metadata": {},
   "outputs": [],
   "source": []
  },
  {
   "cell_type": "code",
   "execution_count": null,
   "metadata": {},
   "outputs": [],
   "source": []
  }
 ],
 "metadata": {
  "kernelspec": {
   "display_name": "Python 3",
   "language": "python",
   "name": "python3"
  },
  "language_info": {
   "codemirror_mode": {
    "name": "ipython",
    "version": 3
   },
   "file_extension": ".py",
   "mimetype": "text/x-python",
   "name": "python",
   "nbconvert_exporter": "python",
   "pygments_lexer": "ipython3",
   "version": "3.6.4"
  }
 },
 "nbformat": 4,
 "nbformat_minor": 2
}
